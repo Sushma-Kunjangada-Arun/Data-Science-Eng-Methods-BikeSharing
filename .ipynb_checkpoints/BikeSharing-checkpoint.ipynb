{
 "cells": [
  {
   "cell_type": "markdown",
   "id": "1b9a3798-968b-464e-957c-d586c4656add",
   "metadata": {},
   "source": [
    "# Data Science Engineering Methods\n",
    "### Abstract\n",
    "Bike-sharing systems are key to sustainable urban transportation, reducing traffic and promoting healthier lifestyles. The dataset includes hourly and daily bike rental counts from Capital Bikeshare (2011-2012) with weather, seasonal, and temporal data. This analysis explores how weather affects rental patterns across seasons and whether rental numbers differ between weekdays and weekends, providing insights to optimize bike-sharing systems.\n",
    "### Variable Description\n",
    "| Variable              | Description                                                                |\n",
    "|-----------------------|----------------------------------------------------------------------------|\n",
    "| instant               | Record index                                                               |\n",
    "| dteday                | Date                                                                       |\n",
    "| season                | Season (1: Winter, 2: Spring, 3: Summer, 4: Fall)                          |\n",
    "| yr                    | Year (0: 2011, 1: 2012)                                                    |\n",
    "| mnth                  | Month (1 to 12)                                                            |\n",
    "| hr                    | Hour (0 to 23)                                                             |\n",
    "| holiday               | Whether the day is a holiday (1: Yes, 0: No)                               |\n",
    "| weekday               | Day of the week (0: Sunday to 6: Saturday)                                 |\n",
    "| workingday            | Whether the day is a working day (1: Yes, 0: No)                           |\n",
    "| weathersit            | Weather condition (1: Clear, 2: Mist, 3: Light Rain/Snow, 4: Heavy Rain)   |\n",
    "| temp                  | Normalized temperature in Celsius (scaled to [0, 1])                       |\n",
    "| atemp                 | Normalized feeling temperature (scaled to [0, 1])                          |\n",
    "| hum                   | Normalized humidity (scaled to [0, 1])                                     |\n",
    "| windspeed             | Normalized wind speed (scaled to [0, 1])                                   |\n",
    "| casual                | Number of casual users                                                     |\n",
    "| registered            | Number of registered users                                                 |\n",
    "| cnt                   | Total bike rental count                                                    |\n",
    "### Dataset\n",
    "* The dataset consists of 13 independent variables such as season, yr, mnth, hr, holiday, weekday, workingday, weathersit, temp, atemp, hum, and windspeed, which capture temporal and weather-related information.\n",
    "* The dependent variable is cnt, which represents the total number of bike rentals, including both casual and registered users.\n",
    "* There are a total of 17,389 observations in the dataset, providing insights into hourly and daily bike rental patterns and their influencing factors."
   ]
  },
  {
   "cell_type": "code",
   "execution_count": 2,
   "id": "fca87d13-0637-45e1-86ba-70a682b599f0",
   "metadata": {},
   "outputs": [],
   "source": [
    "import pandas as pd\n",
    "import numpy as np"
   ]
  },
  {
   "cell_type": "code",
   "execution_count": null,
   "id": "9baaa73c-46ee-4d55-a76d-c85502401528",
   "metadata": {},
   "outputs": [],
   "source": [
    "#Reading the Bike Sharing dataset\n",
    "df = pd.read_csv('dataset.csv')"
   ]
  },
  {
   "cell_type": "code",
   "execution_count": null,
   "id": "3a8e375e-b52d-4770-b82e-91757c70d5f0",
   "metadata": {},
   "outputs": [],
   "source": []
  }
 ],
 "metadata": {
  "kernelspec": {
   "display_name": "Python 3 (ipykernel)",
   "language": "python",
   "name": "python3"
  },
  "language_info": {
   "codemirror_mode": {
    "name": "ipython",
    "version": 3
   },
   "file_extension": ".py",
   "mimetype": "text/x-python",
   "name": "python",
   "nbconvert_exporter": "python",
   "pygments_lexer": "ipython3",
   "version": "3.11.7"
  }
 },
 "nbformat": 4,
 "nbformat_minor": 5
}
